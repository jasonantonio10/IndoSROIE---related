{
  "nbformat": 4,
  "nbformat_minor": 0,
  "metadata": {
    "colab": {
      "name": "Finding_Skew_angle.ipynb",
      "provenance": [],
      "collapsed_sections": [],
      "authorship_tag": "ABX9TyOEVDvWljmX1XMgzgnM1gds",
      "include_colab_link": true
    },
    "kernelspec": {
      "name": "python3",
      "display_name": "Python 3"
    },
    "language_info": {
      "name": "python"
    }
  },
  "cells": [
    {
      "cell_type": "markdown",
      "metadata": {
        "id": "view-in-github",
        "colab_type": "text"
      },
      "source": [
        "<a href=\"https://colab.research.google.com/github/jasonantonio10/IndoSROIE---related/blob/main/Finding_Skew_angle.ipynb\" target=\"_parent\"><img src=\"https://colab.research.google.com/assets/colab-badge.svg\" alt=\"Open In Colab\"/></a>"
      ]
    },
    {
      "cell_type": "code",
      "execution_count": null,
      "metadata": {
        "id": "ZoQoJ5dHsA1h"
      },
      "outputs": [],
      "source": [
        "import cv2\n",
        "import numpy as np\n",
        "from scipy.ndimage import interpolation as inter\n",
        "import matplotlib.pyplot as plt\n",
        "from google.colab.patches import cv2_imshow"
      ]
    },
    {
      "cell_type": "code",
      "execution_count": null,
      "metadata": {
        "id": "i6kwk5oynx4H"
      },
      "outputs": [],
      "source": [
        "\n",
        "def correct_skew(image, delta=1, limit=90):\n",
        "  ''' delta = change in angle\n",
        "      limit = maximum angle\n",
        "      # Projection Profile Implementation from https://stackoverflow.com/questions/59660933/how-to-de-skew-a-text-image-and-retrieve-the-new-bounding-box-of-that-image-pyth \n",
        "  '''\n",
        "    def determine_score(arr, angle):\n",
        "        data = inter.rotate(arr, angle, reshape=False, order=0)\n",
        "        histogram = np.sum(data, axis=1, dtype=float)\n",
        "        '''\n",
        "        print(f'data: {data}')\n",
        "        print(f'data shape: {data.shape}')\n",
        "        print(f'Histogram: {histogram}')\n",
        "        print(f'Histogram[1:]: {histogram[1:]}')\n",
        "        print(f'Histogram[:-1]: {histogram[:-1]}')\n",
        "        '''\n",
        "        score = np.sum((histogram[1:] - histogram[:-1]) ** 2, dtype=float)\n",
        "        return histogram, score\n",
        "\n",
        "    gray = cv2.cvtColor(image, cv2.COLOR_BGR2GRAY)\n",
        "    thresh = cv2.threshold(gray, 0, 255, cv2.THRESH_BINARY_INV + cv2.THRESH_OTSU)[1] \n",
        "\n",
        "    scores = []\n",
        "    angles = np.arange(-limit, limit + delta, delta)\n",
        "    for angle in angles:\n",
        "        histogram, score = determine_score(thresh, angle)\n",
        "        scores.append(score)\n",
        "\n",
        "    best_angle = angles[scores.index(max(scores))]\n",
        "\n",
        "    (h, w) = image.shape[:2]\n",
        "    center = (w // 2, h // 2)\n",
        "    M = cv2.getRotationMatrix2D(center, best_angle, 1.0)\n",
        "    corrected = cv2.warpAffine(image, M, (w, h), flags=cv2.INTER_CUBIC, \\\n",
        "            borderMode=cv2.BORDER_REPLICATE)\n",
        "\n",
        "    return best_angle, corrected\n"
      ]
    },
    {
      "cell_type": "code",
      "source": [
        "image = cv2.imread('/content/new doc 2022-06-22 22.31.13n-1.jpg')\n",
        "angle, corrected = correct_skew(image)\n",
        "print('Skew angle:', angle)\n",
        "cv2_imshow(corrected)"
      ],
      "metadata": {
        "id": "gXiOGdbRsVmI"
      },
      "execution_count": null,
      "outputs": []
    }
  ]
}